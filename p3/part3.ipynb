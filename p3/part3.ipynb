{
 "cells": [
  {
   "cell_type": "markdown",
   "metadata": {},
   "source": [
    "https://www.extensionschool.ch/learn/programs/applied-data-science-machine-learning-v1/subjects/course-project-v5/units/part-2-house-prices-v1"
   ]
  },
  {
   "cell_type": "code",
   "execution_count": 1,
   "metadata": {},
   "outputs": [
    {
     "name": "stdout",
     "output_type": "stream",
     "text": [
      "Pandas version: 0.20.3\n",
      "Numpy version: 1.13.1\n",
      "Sklearn version: 0.19.1\n"
     ]
    }
   ],
   "source": [
    "# Import the necessary libraries\n",
    "import pandas as pd\n",
    "print('Pandas version:', pd.__version__)\n",
    "\n",
    "import numpy as np\n",
    "print('Numpy version:', np.__version__)\n",
    "\n",
    "import sklearn\n",
    "print('Sklearn version:', sklearn.__version__)\n",
    "\n",
    "import matplotlib.pyplot as plt\n",
    "%matplotlib inline\n",
    "import numpy as np\n"
   ]
  },
  {
   "cell_type": "code",
   "execution_count": 2,
   "metadata": {},
   "outputs": [
    {
     "name": "stdout",
     "output_type": "stream",
     "text": [
      "DataFrame size: (2430, 82)\n"
     ]
    }
   ],
   "source": [
    "# Load the file into a Pandas DataFrame\n",
    "df = pd.read_csv('house-prices/house-prices.csv')\n",
    "print('DataFrame size:', df.shape)"
   ]
  },
  {
   "cell_type": "code",
   "execution_count": 3,
   "metadata": {},
   "outputs": [],
   "source": [
    "# Add a LogSalePrice variable to the DataFrame\n",
    "df['LogSalePrice'] = np.log10(df['SalePrice'])"
   ]
  },
  {
   "cell_type": "markdown",
   "metadata": {},
   "source": [
    "## Clean outliers about SalePrice"
   ]
  },
  {
   "cell_type": "code",
   "execution_count": 4,
   "metadata": {},
   "outputs": [
    {
     "data": {
      "image/png": "[encoded data removed]",
      "text/plain": [
       "<matplotlib.figure.Figure at 0x1fce41356a0>"
      ]
     },
     "metadata": {},
     "output_type": "display_data"
    }
   ],
   "source": [
    "\n",
    "pc = df['SalePrice'].values\n",
    "plt.figure(figsize=(15,15))\n",
    "bins = np.arange(0, 800000, 10000)\n",
    "plt.hist(pc, bins = bins)\n",
    "plt.show()"
   ]
  },
  {
   "cell_type": "code",
   "execution_count": 5,
   "metadata": {},
   "outputs": [
    {
     "data": {
      "text/plain": [
       "(2428, 83)"
      ]
     },
     "execution_count": 5,
     "metadata": {},
     "output_type": "execute_result"
    }
   ],
   "source": [
    "# I decide to remove houuses with cost > 650000 $\n",
    "df = df[df['SalePrice'] < 650000]\n",
    "df.shape\n",
    "# only two houses removed"
   ]
  },
  {
   "cell_type": "markdown",
   "metadata": {},
   "source": [
    "## Cleaning categories not enough filled"
   ]
  },
  {
   "cell_type": "code",
   "execution_count": 6,
   "metadata": {},
   "outputs": [
    {
     "data": {
      "text/plain": [
       "LogSalePrice      2428\n",
       "Exter Qual        2428\n",
       "Year Built        2428\n",
       "Year Remod/Add    2428\n",
       "Roof Style        2428\n",
       "Roof Matl         2428\n",
       "Exterior 1st      2428\n",
       "Exterior 2nd      2428\n",
       "Exter Cond        2428\n",
       "Gr Liv Area       2428\n",
       "Foundation        2428\n",
       "Heating           2428\n",
       "SalePrice         2428\n",
       "Central Air       2428\n",
       "1st Flr SF        2428\n",
       "2nd Flr SF        2428\n",
       "Overall Cond      2428\n",
       "Overall Qual      2428\n",
       "House Style       2428\n",
       "Bldg Type         2428\n",
       "Condition 2       2428\n",
       "Condition 1       2428\n",
       "Neighborhood      2428\n",
       "Land Slope        2428\n",
       "Lot Config        2428\n",
       "Utilities         2428\n",
       "Land Contour      2428\n",
       "Lot Shape         2428\n",
       "Street            2428\n",
       "Lot Area          2428\n",
       "                  ... \n",
       "Bedroom AbvGr     2428\n",
       "Half Bath         2428\n",
       "Full Bath         2428\n",
       "BsmtFin SF 1      2427\n",
       "BsmtFin SF 2      2427\n",
       "Bsmt Unf SF       2427\n",
       "Total Bsmt SF     2427\n",
       "Electrical        2427\n",
       "Garage Cars       2427\n",
       "Garage Area       2427\n",
       "Bsmt Full Bath    2426\n",
       "Bsmt Half Bath    2426\n",
       "Mas Vnr Type      2408\n",
       "Mas Vnr Area      2408\n",
       "Bsmt Qual         2357\n",
       "BsmtFin Type 1    2357\n",
       "Bsmt Cond         2357\n",
       "BsmtFin Type 2    2356\n",
       "Bsmt Exposure     2354\n",
       "Garage Type       2292\n",
       "Garage Cond       2290\n",
       "Garage Yr Blt     2290\n",
       "Garage Qual       2290\n",
       "Garage Finish     2290\n",
       "Lot Frontage      2008\n",
       "Fireplace Qu      1242\n",
       "Fence              488\n",
       "Alley              163\n",
       "Misc Feature        90\n",
       "Pool QC             11\n",
       "Length: 83, dtype: int64"
      ]
     },
     "execution_count": 6,
     "metadata": {},
     "output_type": "execute_result"
    }
   ],
   "source": [
    "df.notnull().sum().sort_values(ascending = False)"
   ]
  },
  {
   "cell_type": "code",
   "execution_count": 7,
   "metadata": {},
   "outputs": [
    {
     "data": {
      "text/plain": [
       "{'Alley', 'Fence', 'Fireplace Qu', 'Lot Frontage', 'Misc Feature', 'Pool QC'}"
      ]
     },
     "execution_count": 7,
     "metadata": {},
     "output_type": "execute_result"
    }
   ],
   "source": [
    "# Most of fields are filled. I just thor away categories with < 2200 records filled\n",
    "df2 = df.dropna(axis=1, thresh=2200).copy()\n",
    "\n",
    "#list of removed categories\n",
    "set(df) - set(df2)"
   ]
  },
  {
   "cell_type": "code",
   "execution_count": 8,
   "metadata": {},
   "outputs": [
    {
     "data": {
      "text/plain": [
       "BsmtFin SF 1        1\n",
       "BsmtFin SF 2        1\n",
       "Bsmt Unf SF         1\n",
       "Total Bsmt SF       1\n",
       "Garage Cars         1\n",
       "Garage Area         1\n",
       "Bsmt Half Bath      2\n",
       "Bsmt Full Bath      2\n",
       "Mas Vnr Area       20\n",
       "Mas Vnr Type       20\n",
       "BsmtFin Type 1     71\n",
       "Bsmt Cond          71\n",
       "Bsmt Qual          71\n",
       "BsmtFin Type 2     72\n",
       "Bsmt Exposure      74\n",
       "Garage Type       136\n",
       "Garage Qual       138\n",
       "Garage Finish     138\n",
       "Garage Yr Blt     138\n",
       "Garage Cond       138\n",
       "dtype: int64"
      ]
     },
     "execution_count": 8,
     "metadata": {},
     "output_type": "execute_result"
    }
   ],
   "source": [
    "df2.isnull().sum().sort_values().tail(20)"
   ]
  },
  {
   "cell_type": "code",
   "execution_count": 9,
   "metadata": {},
   "outputs": [
    {
     "data": {
      "text/plain": [
       "Exter Qual          0\n",
       "BsmtFin SF 1        1\n",
       "BsmtFin SF 2        1\n",
       "Bsmt Unf SF         1\n",
       "Total Bsmt SF       1\n",
       "Electrical          1\n",
       "Bsmt Half Bath      2\n",
       "Bsmt Full Bath      2\n",
       "Mas Vnr Area       20\n",
       "Mas Vnr Type       20\n",
       "Bsmt Qual          71\n",
       "Bsmt Cond          71\n",
       "BsmtFin Type 1     71\n",
       "BsmtFin Type 2     72\n",
       "Bsmt Exposure      74\n",
       "Garage Qual       136\n",
       "Garage Finish     136\n",
       "Garage Yr Blt     136\n",
       "Garage Type       136\n",
       "Garage Cond       136\n",
       "dtype: int64"
      ]
     },
     "execution_count": 9,
     "metadata": {},
     "output_type": "execute_result"
    }
   ],
   "source": [
    "# About Garages. I keep only garages information when Type is defined\n",
    "df3 = df2[~((df2['Garage Qual'].isnull() | df2['Garage Finish'].isnull() | df2['Garage Yr Blt'].isnull() | df2['Garage Cond'].isnull()) & ~df2['Garage Type'].isnull())]\n",
    "df3.isnull().sum().sort_values().tail(20)"
   ]
  },
  {
   "cell_type": "code",
   "execution_count": 10,
   "metadata": {},
   "outputs": [],
   "source": [
    "# For Nominal/Ordinal categories, if NaN is on the column; There will be no feature with '1' in it.\n",
    "# so I fill nan values :\n",
    "# for Nominal fields : 'NA' string\n",
    "    # => It's interesting to have also a feature for NA, for the ML algorithm\n",
    "# for Ordinal value :  'mean' value \n",
    "    # => the way I choosed to not disturb too much the algorithm\n",
    "# Numerical with average\n",
    "    # => the way I choosed to not disturb too much the algorithm\n",
    "values = {\n",
    "            'Garage Qual': 'TA', \n",
    "            'Garage Finish': 'RFn', \n",
    "            'Garage Type': 'NA', \n",
    "            'Garage Cond' : 'TA', \n",
    "            'Garage Yr Blt' : df3['Garage Yr Blt'].mean(),\n",
    "            'Bsmt Exposure' : 'Av',\n",
    "            'BsmtFin Type 1' : 'Rec',\n",
    "            'BsmtFin Type 2' : 'Rec',\n",
    "            'Bsmt Cond' : 'TA',\n",
    "            'Bsmt Qual' : 'TA',\n",
    "            'Mas Vnr Type' : 'NA',\n",
    "            'Mas Vnr Area' : df3['Mas Vnr Area'].mean(),\n",
    "}\n",
    "\n",
    "df4 = df3.fillna(value = values)"
   ]
  },
  {
   "cell_type": "code",
   "execution_count": 11,
   "metadata": {},
   "outputs": [
    {
     "data": {
      "text/plain": [
       "Roof Matl         0\n",
       "Exterior 1st      0\n",
       "Exterior 2nd      0\n",
       "Mas Vnr Type      0\n",
       "Mas Vnr Area      0\n",
       "Exter Qual        0\n",
       "Exter Cond        0\n",
       "BsmtFin Type 2    0\n",
       "Roof Style        0\n",
       "Bsmt Qual         0\n",
       "Bsmt Cond         0\n",
       "Bsmt Exposure     0\n",
       "BsmtFin Type 1    0\n",
       "Total Bsmt SF     1\n",
       "BsmtFin SF 1      1\n",
       "BsmtFin SF 2      1\n",
       "Electrical        1\n",
       "Bsmt Unf SF       1\n",
       "Bsmt Full Bath    2\n",
       "Bsmt Half Bath    2\n",
       "dtype: int64"
      ]
     },
     "execution_count": 11,
     "metadata": {},
     "output_type": "execute_result"
    }
   ],
   "source": [
    "df4.isnull().sum().sort_values().tail(20)"
   ]
  },
  {
   "cell_type": "code",
   "execution_count": 12,
   "metadata": {},
   "outputs": [
    {
     "data": {
      "text/plain": [
       "Year Built        0\n",
       "Year Remod/Add    0\n",
       "BsmtFin SF 2      0\n",
       "BsmtFin Type 2    0\n",
       "BsmtFin SF 1      0\n",
       "BsmtFin Type 1    0\n",
       "Bsmt Exposure     0\n",
       "Bsmt Cond         0\n",
       "Bsmt Qual         0\n",
       "Total Bsmt SF     0\n",
       "Foundation        0\n",
       "Exter Qual        0\n",
       "Mas Vnr Area      0\n",
       "Mas Vnr Type      0\n",
       "Exterior 2nd      0\n",
       "Exterior 1st      0\n",
       "Roof Matl         0\n",
       "Roof Style        0\n",
       "Exter Cond        0\n",
       "LogSalePrice      0\n",
       "dtype: int64"
      ]
     },
     "execution_count": 12,
     "metadata": {},
     "output_type": "execute_result"
    }
   ],
   "source": [
    "# For the remaining na, i just clear the record\n",
    "df5 = df4.dropna()\n",
    "df5.isnull().sum().sort_values().tail(20)"
   ]
  },
  {
   "cell_type": "code",
   "execution_count": 13,
   "metadata": {},
   "outputs": [
    {
     "data": {
      "text/plain": [
       "['MS SubClass',\n",
       " 'MS Zoning',\n",
       " 'Lot Area',\n",
       " 'Street',\n",
       " 'Lot Shape',\n",
       " 'Land Contour',\n",
       " 'Utilities',\n",
       " 'Lot Config',\n",
       " 'Land Slope',\n",
       " 'Neighborhood',\n",
       " 'Condition 1',\n",
       " 'Condition 2',\n",
       " 'Bldg Type',\n",
       " 'House Style',\n",
       " 'Overall Qual',\n",
       " 'Overall Cond',\n",
       " 'Year Built',\n",
       " 'Year Remod/Add',\n",
       " 'Roof Style',\n",
       " 'Roof Matl',\n",
       " 'Exterior 1st',\n",
       " 'Exterior 2nd',\n",
       " 'Mas Vnr Type',\n",
       " 'Mas Vnr Area',\n",
       " 'Exter Qual',\n",
       " 'Exter Cond',\n",
       " 'Foundation',\n",
       " 'Bsmt Qual',\n",
       " 'Bsmt Cond',\n",
       " 'Bsmt Exposure',\n",
       " 'BsmtFin Type 1',\n",
       " 'BsmtFin SF 1',\n",
       " 'BsmtFin Type 2',\n",
       " 'BsmtFin SF 2',\n",
       " 'Bsmt Unf SF',\n",
       " 'Total Bsmt SF',\n",
       " 'Heating',\n",
       " 'Heating QC',\n",
       " 'Central Air',\n",
       " 'Electrical',\n",
       " '1st Flr SF',\n",
       " '2nd Flr SF',\n",
       " 'Low Qual Fin SF',\n",
       " 'Gr Liv Area',\n",
       " 'Bsmt Full Bath',\n",
       " 'Bsmt Half Bath',\n",
       " 'Full Bath',\n",
       " 'Half Bath',\n",
       " 'Bedroom AbvGr',\n",
       " 'Kitchen AbvGr',\n",
       " 'Kitchen Qual',\n",
       " 'TotRms AbvGrd',\n",
       " 'Functional',\n",
       " 'Fireplaces',\n",
       " 'Garage Type',\n",
       " 'Garage Yr Blt',\n",
       " 'Garage Finish',\n",
       " 'Garage Cars',\n",
       " 'Garage Area',\n",
       " 'Garage Qual',\n",
       " 'Garage Cond',\n",
       " 'Paved Drive',\n",
       " 'Wood Deck SF',\n",
       " 'Open Porch SF',\n",
       " 'Enclosed Porch',\n",
       " '3Ssn Porch',\n",
       " 'Screen Porch',\n",
       " 'Pool Area',\n",
       " 'Misc Val',\n",
       " 'Mo Sold',\n",
       " 'Yr Sold',\n",
       " 'Sale Type',\n",
       " 'Sale Condition',\n",
       " 'SalePrice',\n",
       " 'LogSalePrice']"
      ]
     },
     "execution_count": 13,
     "metadata": {},
     "output_type": "execute_result"
    }
   ],
   "source": [
    "# Those two items has nothnig to do with sales prices\n",
    "df6 = df5.drop(['PID', 'Order'], axis=1)\n",
    "list(df6)"
   ]
  },
  {
   "cell_type": "markdown",
   "metadata": {},
   "source": [
    "## Transform Ordinal Values\n"
   ]
  },
  {
   "cell_type": "code",
   "execution_count": 14,
   "metadata": {},
   "outputs": [],
   "source": [
    "quality_features = ['Exter Qual','Exter Cond','Bsmt Qual','Bsmt Cond','Heating QC', 'Kitchen Qual','Garage Qual','Garage Cond']\n",
    "df7 = df6.copy()\n",
    "df7[quality_features] = df7[quality_features].replace({'Po': 0, 'Fa': 1, 'TA': 2, 'Gd': 3, 'Ex': 4})\n",
    "df7['Lot Shape'] = df7['Lot Shape'].replace({'Reg': 3, 'IR1': 2, 'IR2': 1, 'IR3': 0})\n",
    "df7['Land Slope'] = df7['Land Slope'].replace({'Gtl': 0, 'Mod': 1, 'Sev': 2})\n",
    "df7['Bsmt Exposure'] = df7['Bsmt Exposure'].replace({'Gd': 3, 'Av': 2, 'Mn': 1, 'No' : 0})\n",
    "BsmtFinTypes = ['BsmtFin Type 1', 'BsmtFin Type 2']\n",
    "df7[BsmtFinTypes] = df7[BsmtFinTypes].replace({'GLQ': 5, 'ALQ': 4, 'BLQ': 3, 'Rec' : 2, 'LwQ' : 1, 'Unf' : 0})\n",
    "df7['Electrical'] = df7['Electrical'].replace({'SBrkr': 4, 'FuseA': 3, 'FuseF': 2, 'FuseP' : 1, 'Mix' : 0})\n",
    "df7['Functional'] = df7['Functional'].replace({'Typ': 7, 'Min1': 6, 'Min2': 5, 'Mod' : 4,'Maj1': 3, 'Maj2': 2, 'Sev': 1, 'Sal' : 0})\n",
    "df7['Garage Finish'] = df7['Garage Finish'].replace({'Fin': 2, 'RFn': 1, 'Unf': 0})\n",
    "df7['Paved Drive'] = df7['Paved Drive'].replace({'Y': 2, 'P': 1, 'N': 0})\n",
    "#df7['Fence'] = df7['Fence'].replace({'GdPrv': 3, 'MnPrv': 2, 'GdWo': 1, 'MnWw' : 0})\n"
   ]
  },
  {
   "cell_type": "code",
   "execution_count": 15,
   "metadata": {},
   "outputs": [],
   "source": [
    "#Special Process for Utilities\n",
    "# For Utilities, I prefer adding columns for Gas, Water, Sewr\n",
    "# We have more information in this column than a simple ordinal fiels. So we want ML to take advantage of that.\n",
    "\n",
    "dGas = {'ELO': 0, 'NoSeWa': 1, 'NoSewr' : 1, 'AllPub': 1}\n",
    "df7['Gas'] = df7['Utilities'].map(dGas)\n",
    "dWater = {'ELO': 0, 'NoSeWa': 0, 'NoSewr' : 1, 'AllPub': 1}\n",
    "df7['Water'] = df7['Utilities'].map(dWater)\n",
    "dWater = {'ELO': 0, 'NoSeWa': 0, 'NoSewr' : 0, 'AllPub': 1}\n",
    "df7['Sewr'] = df7['Utilities'].map(dWater)\n",
    "df8 = df7.drop('Utilities', axis=1)\n"
   ]
  },
  {
   "cell_type": "markdown",
   "metadata": {},
   "source": [
    "## Nominal Values"
   ]
  },
  {
   "cell_type": "code",
   "execution_count": 16,
   "metadata": {},
   "outputs": [],
   "source": [
    "# One-hot encoding\n",
    "nominalFeatures = [\n",
    "'MS SubClass',\n",
    "'MS Zoning',\n",
    "'Street',\n",
    "'Land Contour',\n",
    "'Lot Config',\n",
    "'Neighborhood',\n",
    "'Condition 1',\n",
    "'Condition 2',\n",
    "'Bldg Type',\n",
    "'House Style',\n",
    "'Roof Style',\n",
    "'Roof Matl',\n",
    "'Exterior 1st',\n",
    "'Exterior 2nd',\n",
    "'Mas Vnr Type',\n",
    "'Foundation',\n",
    "'Heating',\n",
    "'Garage Type',\n",
    "#'Misc Feature',\n",
    "'Sale Type',\n",
    "'Sale Condition']\n",
    "df9 = pd.get_dummies(df8, columns=nominalFeatures)"
   ]
  },
  {
   "cell_type": "code",
   "execution_count": 17,
   "metadata": {},
   "outputs": [],
   "source": [
    "# special process for Central air (2 possible choices, I prefer to keep only one hot vector)\n",
    "df9['Central Air'] = df9['Central Air'].map({'Y' : 1, 'N': 0})\n"
   ]
  },
  {
   "cell_type": "markdown",
   "metadata": {},
   "source": [
    "## Last Check . Do we have only numerical values ?"
   ]
  },
  {
   "cell_type": "code",
   "execution_count": 18,
   "metadata": {},
   "outputs": [
    {
     "data": {
      "text/plain": [
       "array([dtype('int64'), dtype('float64'), dtype('uint8')], dtype=object)"
      ]
     },
     "execution_count": 18,
     "metadata": {},
     "output_type": "execute_result"
    }
   ],
   "source": [
    "df9.dtypes.unique()"
   ]
  },
  {
   "cell_type": "markdown",
   "metadata": {},
   "source": [
    "## Feature engineering"
   ]
  },
  {
   "cell_type": "code",
   "execution_count": 19,
   "metadata": {},
   "outputs": [
    {
     "data": {
      "text/plain": [
       "Lot Area                  24.623081\n",
       "Lot Shape                  4.486328\n",
       "Land Slope                 7.601365\n",
       "Overall Qual               3.606533\n",
       "Overall Cond               4.093878\n",
       "Year Built                 3.187078\n",
       "Year Remod/Add             1.649020\n",
       "Mas Vnr Area               8.576545\n",
       "Exter Qual                 2.771908\n",
       "Exter Cond                 5.528029\n",
       "Bsmt Qual                  3.671581\n",
       "Bsmt Cond                  6.865326\n",
       "Bsmt Exposure              2.144837\n",
       "BsmtFin Type 1             1.296168\n",
       "BsmtFin SF 1              11.404603\n",
       "BsmtFin Type 2             4.719824\n",
       "BsmtFin SF 2               8.559376\n",
       "Bsmt Unf SF                4.046969\n",
       "Total Bsmt SF             11.428677\n",
       "Heating QC                 3.271427\n",
       "Central Air                3.663689\n",
       "Electrical                10.069604\n",
       "1st Flr SF                10.146994\n",
       "2nd Flr SF                 3.686194\n",
       "Low Qual Fin SF           22.409801\n",
       "Gr Liv Area                8.528332\n",
       "Bsmt Full Bath             4.859143\n",
       "Bsmt Half Bath             8.005278\n",
       "Full Bath                  4.467844\n",
       "Half Bath                  3.255639\n",
       "Bedroom AbvGr              6.327463\n",
       "Kitchen AbvGr              9.377440\n",
       "Kitchen Qual               3.772214\n",
       "TotRms AbvGrd              5.559677\n",
       "Functional                10.332695\n",
       "Fireplaces                 5.279695\n",
       "Garage Yr Blt              9.233769\n",
       "Garage Finish              1.478352\n",
       "Garage Cars                2.953291\n",
       "Garage Area                4.711985\n",
       "Garage Qual                8.107782\n",
       "Garage Cond                8.571665\n",
       "Paved Drive                3.355209\n",
       "Wood Deck SF              10.385367\n",
       "Open Porch SF             10.395840\n",
       "Enclosed Porch            15.899445\n",
       "3Ssn Porch                20.293358\n",
       "Screen Porch               8.322373\n",
       "Pool Area                 23.213531\n",
       "Misc Val                  27.456669\n",
       "Mo Sold                    2.126719\n",
       "Yr Sold                    1.687434\n",
       "SalePrice                  5.583980\n",
       "LogSalePrice               6.307895\n",
       "Gas                             NaN\n",
       "Water                     49.213819\n",
       "Sewr                      28.401878\n",
       "MS SubClass_20             1.289433\n",
       "MS SubClass_30             4.400153\n",
       "MS SubClass_40            24.591665\n",
       "MS SubClass_45            12.670175\n",
       "MS SubClass_50             3.080451\n",
       "MS SubClass_60             2.046567\n",
       "MS SubClass_70             4.675306\n",
       "MS SubClass_75            11.248392\n",
       "MS SubClass_80             5.005373\n",
       "MS SubClass_85             7.622176\n",
       "MS SubClass_90             5.212909\n",
       "MS SubClass_120            3.773459\n",
       "MS SubClass_150           49.213819\n",
       "MS SubClass_160            4.745974\n",
       "MS SubClass_180           13.117600\n",
       "MS SubClass_190            6.561596\n",
       "MS Zoning_A (agr)         34.792241\n",
       "MS Zoning_C (all)         11.896613\n",
       "MS Zoning_FV               4.521336\n",
       "MS Zoning_I (all)         34.792241\n",
       "MS Zoning_RH              11.248392\n",
       "MS Zoning_RL               1.883074\n",
       "MS Zoning_RM               2.318688\n",
       "Street_Grvl               14.807860\n",
       "Street_Pave               14.807860\n",
       "Land Contour_Bnk           4.770210\n",
       "Land Contour_HLS           4.870779\n",
       "Land Contour_Low           6.623471\n",
       "Land Contour_Lvl           2.922220\n",
       "Lot Config_Corner          2.202875\n",
       "Lot Config_CulDSac         3.799095\n",
       "Lot Config_FR2             5.714261\n",
       "Lot Config_FR3            15.533834\n",
       "Lot Config_Inside          1.646380\n",
       "Neighborhood_Blmngtn      10.694903\n",
       "Neighborhood_Blueste      20.070708\n",
       "Neighborhood_BrDale        9.601683\n",
       "Neighborhood_BrkSide       5.151125\n",
       "Neighborhood_ClearCr       7.818453\n",
       "Neighborhood_CollgCr       3.117890\n",
       "Neighborhood_Crawfor       5.447099\n",
       "Neighborhood_Edwards       3.786218\n",
       "Neighborhood_Gilbert       4.116813\n",
       "Neighborhood_Greens       17.374550\n",
       "Neighborhood_GrnHill      34.792241\n",
       "Neighborhood_IDOTRR        5.634114\n",
       "Neighborhood_Landmrk      49.213819\n",
       "Neighborhood_MeadowV       9.248552\n",
       "Neighborhood_Mitchel       4.845075\n",
       "Neighborhood_NAmes         2.389961\n",
       "Neighborhood_NPkVill      10.694903\n",
       "Neighborhood_NWAmes        4.361742\n",
       "Neighborhood_NoRidge       6.819810\n",
       "Neighborhood_NridgHt       4.133048\n",
       "Neighborhood_OldTown       3.263286\n",
       "Neighborhood_SWISU         8.030348\n",
       "Neighborhood_Sawyer        4.234346\n",
       "Neighborhood_SawyerW       4.770210\n",
       "Neighborhood_Somerst       3.878963\n",
       "Neighborhood_StoneBr       7.718484\n",
       "Neighborhood_Timber        6.329913\n",
       "Neighborhood_Veenker      10.961296\n",
       "Condition 1_Artery         5.483074\n",
       "Condition 1_Feedr          4.149463\n",
       "Condition 1_Norm           2.462547\n",
       "Condition 1_PosA          11.896613\n",
       "Condition 1_PosN           8.260059\n",
       "Condition 1_RRAe           9.997916\n",
       "Condition 1_RRAn           7.439680\n",
       "Condition 1_RRNe          21.990907\n",
       "Condition 1_RRNn          17.374550\n",
       "Condition 2_Artery        21.990907\n",
       "Condition 2_Feedr         14.174508\n",
       "Condition 2_Norm           9.420230\n",
       "Condition 2_PosA          24.591665\n",
       "Condition 2_PosN          34.792241\n",
       "Condition 2_RRAe          49.213819\n",
       "Condition 2_RRAn          49.213819\n",
       "Condition 2_RRNn          34.792241\n",
       "Bldg Type_1Fam             2.206089\n",
       "Bldg Type_2fmCon           6.561596\n",
       "Bldg Type_Duplex           5.212909\n",
       "Bldg Type_Twnhs            5.151125\n",
       "Bldg Type_TwnhsE           3.488335\n",
       "House Style_1.5Fin         2.903104\n",
       "House Style_1.5Unf        12.265297\n",
       "House Style_1Story         1.025500\n",
       "House Style_2.5Fin        18.578021\n",
       "House Style_2.5Unf        10.961296\n",
       "House Style_2Story         1.554828\n",
       "House Style_SFoyer         5.797783\n",
       "House Style_SLvl           4.770210\n",
       "Roof Style_Flat           11.559027\n",
       "Roof Style_Gable           1.946417\n",
       "Roof Style_Gambrel        10.694903\n",
       "Roof Style_Hip             2.082548\n",
       "Roof Style_Mansard        17.374550\n",
       "Roof Style_Shed           21.990907\n",
       "Roof Matl_ClyTile         49.213819\n",
       "Roof Matl_CompShg          8.030348\n",
       "Roof Matl_Membran         49.213819\n",
       "Roof Matl_Metal           49.213819\n",
       "Roof Matl_Tar&Grv         10.694903\n",
       "Roof Matl_WdShake         18.578021\n",
       "Roof Matl_WdShngl         20.070708\n",
       "Exterior 1st_AsbShng       8.142822\n",
       "Exterior 1st_AsphShn      34.792241\n",
       "Exterior 1st_BrkComm      20.070708\n",
       "Exterior 1st_BrkFace       5.634114\n",
       "Exterior 1st_CBlock       34.792241\n",
       "Exterior 1st_CemntBd       5.033583\n",
       "Exterior 1st_HdBoard       2.366892\n",
       "Exterior 1st_ImStucc      49.213819\n",
       "Exterior 1st_MetalSd       2.355557\n",
       "Exterior 1st_Plywood       3.418459\n",
       "Exterior 1st_PreCast      49.213819\n",
       "Exterior 1st_Stone        34.792241\n",
       "Exterior 1st_Stucco        8.142822\n",
       "Exterior 1st_VinylSd       1.351778\n",
       "Exterior 1st_Wd Sdng       2.479414\n",
       "Exterior 1st_WdShing       7.110077\n",
       "Exterior 2nd_AsbShng       8.644001\n",
       "Exterior 2nd_AsphShn      24.591665\n",
       "Exterior 2nd_Brk Cmn      10.961296\n",
       "Exterior 2nd_BrkFace       7.439680\n",
       "Exterior 2nd_CBlock       49.213819\n",
       "Exterior 2nd_CmentBd       4.977609\n",
       "Exterior 2nd_HdBoard       2.470946\n",
       "Exterior 2nd_ImStucc      14.807860\n",
       "Exterior 2nd_MetalSd       2.370700\n",
       "Exterior 2nd_Plywood       3.117890\n",
       "Exterior 2nd_PreCast      49.213819\n",
       "Exterior 2nd_Stone        21.990907\n",
       "Exterior 2nd_Stucco        8.030348\n",
       "Exterior 2nd_VinylSd       1.361597\n",
       "Exterior 2nd_Wd Sdng       2.536240\n",
       "Exterior 2nd_Wd Shng       5.929939\n",
       "Mas Vnr Type_BrkCmn       10.694903\n",
       "Mas Vnr Type_BrkFace       1.515453\n",
       "Mas Vnr Type_CBlock       49.213819\n",
       "Mas Vnr Type_NA           10.961296\n",
       "Mas Vnr Type_None          1.206198\n",
       "Mas Vnr Type_Stone         3.246243\n",
       "Foundation_BrkTil          2.841638\n",
       "Foundation_CBlock          1.170829\n",
       "Foundation_PConc           1.114201\n",
       "Foundation_Slab            7.622176\n",
       "Foundation_Stone          18.578021\n",
       "Foundation_Wood           21.990907\n",
       "Heating_Floor             49.213819\n",
       "Heating_GasA               8.142822\n",
       "Heating_GasW              10.694903\n",
       "Heating_Grav              17.374550\n",
       "Heating_OthW              49.213819\n",
       "Heating_Wall              21.990907\n",
       "Garage Type_2Types        10.446835\n",
       "Garage Type_Attchd         1.203110\n",
       "Garage Type_Basment        9.248552\n",
       "Garage Type_BuiltIn        3.949163\n",
       "Garage Type_CarPort       14.807860\n",
       "Garage Type_Detchd         1.656797\n",
       "Garage Type_NA             4.100753\n",
       "Sale Type_COD              5.634114\n",
       "Sale Type_CWD             15.533834\n",
       "Sale Type_Con             21.990907\n",
       "Sale Type_ConLD           10.961296\n",
       "Sale Type_ConLI           18.578021\n",
       "Sale Type_ConLw           24.591665\n",
       "Sale Type_New              3.467979\n",
       "Sale Type_Oth             20.070708\n",
       "Sale Type_VWD             49.213819\n",
       "Sale Type_WD               2.596385\n",
       "Sale Condition_Abnorml     3.865332\n",
       "Sale Condition_AdjLand    15.533834\n",
       "Sale Condition_Alloca     11.248392\n",
       "Sale Condition_Family      8.644001\n",
       "Sale Condition_Normal      2.232200\n",
       "Sale Condition_Partial     3.408782\n",
       "dtype: float64"
      ]
     },
     "execution_count": 19,
     "metadata": {},
     "output_type": "execute_result"
    }
   ],
   "source": [
    "#Let's take a look to z-scores for the features\n",
    "# I need to discard the one-hot vectors where z score doest mean anything\n",
    "pd.set_option('display.max_rows', 300)\n",
    "(abs(df9 - df9.mean())/df9.std(ddof=0)).max()"
   ]
  },
  {
   "cell_type": "code",
   "execution_count": 20,
   "metadata": {},
   "outputs": [
    {
     "data": {
      "image/png": "[encoded data removed]",
      "text/plain": [
       "<matplotlib.figure.Figure at 0x1fce4a73d30>"
      ]
     },
     "metadata": {},
     "output_type": "display_data"
    }
   ],
   "source": [
    "# We can notice that oftenly areas have high z-score.\n",
    "# let's take a look to 'Lot Area' for instance\n",
    "\n",
    "pc = df9['Lot Area'].values\n",
    "plt.figure(figsize=(15,15))\n",
    "plt.hist(pc, bins = 20)\n",
    "plt.show()\n",
    "\n",
    "# We can see that it's not really due to outliers, but rather to the distribution."
   ]
  },
  {
   "cell_type": "code",
   "execution_count": 21,
   "metadata": {},
   "outputs": [
    {
     "data": {
      "image/png": "[encoded data removed]",
      "text/plain": [
       "<matplotlib.figure.Figure at 0x1fce41fee10>"
      ]
     },
     "metadata": {},
     "output_type": "display_data"
    }
   ],
   "source": [
    "# let's take a look to the log of the 'Lot Area'\n",
    "pc = np.log(df9['Lot Area'].values)\n",
    "plt.figure(figsize=(15,15))\n",
    "plt.hist(pc, bins = 20)\n",
    "plt.show()\n",
    "\n",
    "# Sounds better "
   ]
  },
  {
   "cell_type": "code",
   "execution_count": 22,
   "metadata": {},
   "outputs": [
    {
     "data": {
      "text/html": [
       "<div>\n",
       "<style>\n",
       "    .dataframe thead tr:only-child th {\n",
       "        text-align: right;\n",
       "    }\n",
       "\n",
       "    .dataframe thead th {\n",
       "        text-align: left;\n",
       "    }\n",
       "\n",
       "    .dataframe tbody tr th {\n",
       "        vertical-align: top;\n",
       "    }\n",
       "</style>\n",
       "<table border=\"1\" class=\"dataframe\">\n",
       "  <thead>\n",
       "    <tr style=\"text-align: right;\">\n",
       "      <th></th>\n",
       "      <th>Lot Area_log</th>\n",
       "      <th>Mas Vnr Area_log</th>\n",
       "      <th>BsmtFin SF 1_log</th>\n",
       "      <th>BsmtFin SF 2_log</th>\n",
       "      <th>Bsmt Unf SF_log</th>\n",
       "      <th>Total Bsmt SF_log</th>\n",
       "      <th>1st Flr SF_log</th>\n",
       "      <th>2nd Flr SF_log</th>\n",
       "      <th>Low Qual Fin SF_log</th>\n",
       "      <th>Gr Liv Area_log</th>\n",
       "      <th>Garage Area_log</th>\n",
       "      <th>Wood Deck SF_log</th>\n",
       "      <th>Open Porch SF_log</th>\n",
       "      <th>Enclosed Porch_log</th>\n",
       "      <th>3Ssn Porch_log</th>\n",
       "      <th>Screen Porch_log</th>\n",
       "      <th>Pool Area_log</th>\n",
       "    </tr>\n",
       "  </thead>\n",
       "  <tbody>\n",
       "    <tr>\n",
       "      <th>count</th>\n",
       "      <td>2423.000000</td>\n",
       "      <td>2423.000000</td>\n",
       "      <td>2423.000000</td>\n",
       "      <td>2423.000000</td>\n",
       "      <td>2423.000000</td>\n",
       "      <td>2423.000000</td>\n",
       "      <td>2423.000000</td>\n",
       "      <td>2423.000000</td>\n",
       "      <td>2423.000000</td>\n",
       "      <td>2423.000000</td>\n",
       "      <td>2423.000000</td>\n",
       "      <td>2423.000000</td>\n",
       "      <td>2423.000000</td>\n",
       "      <td>2423.000000</td>\n",
       "      <td>2423.000000</td>\n",
       "      <td>2423.000000</td>\n",
       "      <td>2423.000000</td>\n",
       "    </tr>\n",
       "    <tr>\n",
       "      <th>mean</th>\n",
       "      <td>9.097108</td>\n",
       "      <td>2.137093</td>\n",
       "      <td>4.231318</td>\n",
       "      <td>0.696181</td>\n",
       "      <td>5.599617</td>\n",
       "      <td>6.722772</td>\n",
       "      <td>7.003448</td>\n",
       "      <td>2.773873</td>\n",
       "      <td>0.070813</td>\n",
       "      <td>7.254761</td>\n",
       "      <td>5.801181</td>\n",
       "      <td>2.438794</td>\n",
       "      <td>2.332197</td>\n",
       "      <td>0.740134</td>\n",
       "      <td>0.062412</td>\n",
       "      <td>0.463576</td>\n",
       "      <td>0.027627</td>\n",
       "    </tr>\n",
       "    <tr>\n",
       "      <th>std</th>\n",
       "      <td>0.511395</td>\n",
       "      <td>2.625529</td>\n",
       "      <td>2.984071</td>\n",
       "      <td>1.898812</td>\n",
       "      <td>1.896605</td>\n",
       "      <td>1.208884</td>\n",
       "      <td>0.321456</td>\n",
       "      <td>3.262532</td>\n",
       "      <td>0.637369</td>\n",
       "      <td>0.319807</td>\n",
       "      <td>1.462446</td>\n",
       "      <td>2.593563</td>\n",
       "      <td>2.149855</td>\n",
       "      <td>1.752348</td>\n",
       "      <td>0.570354</td>\n",
       "      <td>1.478953</td>\n",
       "      <td>0.410385</td>\n",
       "    </tr>\n",
       "    <tr>\n",
       "      <th>min</th>\n",
       "      <td>7.293698</td>\n",
       "      <td>0.000000</td>\n",
       "      <td>0.000000</td>\n",
       "      <td>0.000000</td>\n",
       "      <td>0.000000</td>\n",
       "      <td>0.000000</td>\n",
       "      <td>5.814131</td>\n",
       "      <td>0.000000</td>\n",
       "      <td>0.000000</td>\n",
       "      <td>5.814131</td>\n",
       "      <td>0.000000</td>\n",
       "      <td>0.000000</td>\n",
       "      <td>0.000000</td>\n",
       "      <td>0.000000</td>\n",
       "      <td>0.000000</td>\n",
       "      <td>0.000000</td>\n",
       "      <td>0.000000</td>\n",
       "    </tr>\n",
       "    <tr>\n",
       "      <th>25%</th>\n",
       "      <td>8.919854</td>\n",
       "      <td>0.000000</td>\n",
       "      <td>0.000000</td>\n",
       "      <td>0.000000</td>\n",
       "      <td>5.379897</td>\n",
       "      <td>6.678342</td>\n",
       "      <td>6.781058</td>\n",
       "      <td>0.000000</td>\n",
       "      <td>0.000000</td>\n",
       "      <td>7.021976</td>\n",
       "      <td>5.782284</td>\n",
       "      <td>0.000000</td>\n",
       "      <td>0.000000</td>\n",
       "      <td>0.000000</td>\n",
       "      <td>0.000000</td>\n",
       "      <td>0.000000</td>\n",
       "      <td>0.000000</td>\n",
       "    </tr>\n",
       "    <tr>\n",
       "      <th>50%</th>\n",
       "      <td>9.159152</td>\n",
       "      <td>0.000000</td>\n",
       "      <td>5.929589</td>\n",
       "      <td>0.000000</td>\n",
       "      <td>6.137727</td>\n",
       "      <td>6.898715</td>\n",
       "      <td>6.991177</td>\n",
       "      <td>0.000000</td>\n",
       "      <td>0.000000</td>\n",
       "      <td>7.273093</td>\n",
       "      <td>6.171701</td>\n",
       "      <td>0.000000</td>\n",
       "      <td>3.332205</td>\n",
       "      <td>0.000000</td>\n",
       "      <td>0.000000</td>\n",
       "      <td>0.000000</td>\n",
       "      <td>0.000000</td>\n",
       "    </tr>\n",
       "    <tr>\n",
       "      <th>75%</th>\n",
       "      <td>9.358847</td>\n",
       "      <td>5.105945</td>\n",
       "      <td>6.603266</td>\n",
       "      <td>0.000000</td>\n",
       "      <td>6.683986</td>\n",
       "      <td>7.169735</td>\n",
       "      <td>7.234537</td>\n",
       "      <td>6.546065</td>\n",
       "      <td>0.000000</td>\n",
       "      <td>7.461928</td>\n",
       "      <td>6.357842</td>\n",
       "      <td>5.129899</td>\n",
       "      <td>4.262680</td>\n",
       "      <td>0.000000</td>\n",
       "      <td>0.000000</td>\n",
       "      <td>0.000000</td>\n",
       "      <td>0.000000</td>\n",
       "    </tr>\n",
       "    <tr>\n",
       "      <th>max</th>\n",
       "      <td>12.279537</td>\n",
       "      <td>7.378384</td>\n",
       "      <td>8.638525</td>\n",
       "      <td>7.331060</td>\n",
       "      <td>7.756623</td>\n",
       "      <td>8.717846</td>\n",
       "      <td>8.536211</td>\n",
       "      <td>7.529943</td>\n",
       "      <td>6.970730</td>\n",
       "      <td>8.638171</td>\n",
       "      <td>7.305860</td>\n",
       "      <td>7.261927</td>\n",
       "      <td>6.610696</td>\n",
       "      <td>6.920672</td>\n",
       "      <td>6.232448</td>\n",
       "      <td>6.196444</td>\n",
       "      <td>6.685861</td>\n",
       "    </tr>\n",
       "  </tbody>\n",
       "</table>\n",
       "</div>"
      ],
      "text/plain": [
       "       Lot Area_log  Mas Vnr Area_log  BsmtFin SF 1_log  BsmtFin SF 2_log  \\\n",
       "count   2423.000000       2423.000000       2423.000000       2423.000000   \n",
       "mean       9.097108          2.137093          4.231318          0.696181   \n",
       "std        0.511395          2.625529          2.984071          1.898812   \n",
       "min        7.293698          0.000000          0.000000          0.000000   \n",
       "25%        8.919854          0.000000          0.000000          0.000000   \n",
       "50%        9.159152          0.000000          5.929589          0.000000   \n",
       "75%        9.358847          5.105945          6.603266          0.000000   \n",
       "max       12.279537          7.378384          8.638525          7.331060   \n",
       "\n",
       "       Bsmt Unf SF_log  Total Bsmt SF_log  1st Flr SF_log  2nd Flr SF_log  \\\n",
       "count      2423.000000        2423.000000     2423.000000     2423.000000   \n",
       "mean          5.599617           6.722772        7.003448        2.773873   \n",
       "std           1.896605           1.208884        0.321456        3.262532   \n",
       "min           0.000000           0.000000        5.814131        0.000000   \n",
       "25%           5.379897           6.678342        6.781058        0.000000   \n",
       "50%           6.137727           6.898715        6.991177        0.000000   \n",
       "75%           6.683986           7.169735        7.234537        6.546065   \n",
       "max           7.756623           8.717846        8.536211        7.529943   \n",
       "\n",
       "       Low Qual Fin SF_log  Gr Liv Area_log  Garage Area_log  \\\n",
       "count          2423.000000      2423.000000      2423.000000   \n",
       "mean              0.070813         7.254761         5.801181   \n",
       "std               0.637369         0.319807         1.462446   \n",
       "min               0.000000         5.814131         0.000000   \n",
       "25%               0.000000         7.021976         5.782284   \n",
       "50%               0.000000         7.273093         6.171701   \n",
       "75%               0.000000         7.461928         6.357842   \n",
       "max               6.970730         8.638171         7.305860   \n",
       "\n",
       "       Wood Deck SF_log  Open Porch SF_log  Enclosed Porch_log  \\\n",
       "count       2423.000000        2423.000000         2423.000000   \n",
       "mean           2.438794           2.332197            0.740134   \n",
       "std            2.593563           2.149855            1.752348   \n",
       "min            0.000000           0.000000            0.000000   \n",
       "25%            0.000000           0.000000            0.000000   \n",
       "50%            0.000000           3.332205            0.000000   \n",
       "75%            5.129899           4.262680            0.000000   \n",
       "max            7.261927           6.610696            6.920672   \n",
       "\n",
       "       3Ssn Porch_log  Screen Porch_log  Pool Area_log  \n",
       "count     2423.000000       2423.000000    2423.000000  \n",
       "mean         0.062412          0.463576       0.027627  \n",
       "std          0.570354          1.478953       0.410385  \n",
       "min          0.000000          0.000000       0.000000  \n",
       "25%          0.000000          0.000000       0.000000  \n",
       "50%          0.000000          0.000000       0.000000  \n",
       "75%          0.000000          0.000000       0.000000  \n",
       "max          6.232448          6.196444       6.685861  "
      ]
     },
     "execution_count": 22,
     "metadata": {},
     "output_type": "execute_result"
    }
   ],
   "source": [
    "# I decide to add the log of all the areas feature as new features\n",
    "AreasFeatures = ['Lot Area', 'Mas Vnr Area', 'BsmtFin SF 1', 'BsmtFin SF 2', 'Bsmt Unf SF', 'Total Bsmt SF', '1st Flr SF', '2nd Flr SF', 'Low Qual Fin SF', 'Gr Liv Area', 'Garage Area', 'Wood Deck SF', 'Open Porch SF', 'Enclosed Porch', '3Ssn Porch', 'Screen Porch', 'Pool Area']\n",
    "\n",
    "# Areas are positive values. I first add '1' to every colums so i have positive values \n",
    "#and this way I avoid division per 0 when area is not consistant\n",
    "df_areas = df9[AreasFeatures]\n",
    "dflog = np.log(np.add(1, df_areas)).add_suffix('_log')\n",
    "dflog.describe()"
   ]
  },
  {
   "cell_type": "code",
   "execution_count": 23,
   "metadata": {},
   "outputs": [],
   "source": [
    "# Add those columns into dataset for the complex model\n",
    "df10 = df9.join(dflog)"
   ]
  },
  {
   "cell_type": "code",
   "execution_count": 24,
   "metadata": {},
   "outputs": [],
   "source": [
    "# Let's compute total area by adding all the areas\n",
    "df10['Total Area'] = df_areas.sum(axis = 1)"
   ]
  },
  {
   "cell_type": "code",
   "execution_count": 25,
   "metadata": {},
   "outputs": [],
   "source": [
    "# Sold Date : transform Month and Year into one only column, better for the algorithm\n",
    "df10['Date Sold'] = df10['Mo Sold'] - 1 + ( df10['Yr Sold'] - df10['Yr Sold'].min()) * 12\n",
    "df10['Date Sold'].describe()\n",
    "df11 = df10.drop(['Mo Sold', 'Yr Sold'], axis=1)"
   ]
  },
  {
   "cell_type": "code",
   "execution_count": 26,
   "metadata": {},
   "outputs": [],
   "source": [
    "# In order to better take better advantage of House Style. I add a feature telling if we have two stories\n",
    "df11['HasTwoStories'] =  df10['House Style_2.5Fin'] | df10['House Style_2.5Unf'] | df10['House Style_2Story']\n"
   ]
  },
  {
   "cell_type": "code",
   "execution_count": 27,
   "metadata": {},
   "outputs": [
    {
     "data": {
      "text/plain": [
       "(2423, 254)"
      ]
     },
     "execution_count": 27,
     "metadata": {},
     "output_type": "execute_result"
    }
   ],
   "source": [
    "# We don't take TotRmsAbvGrd to avoid redudancy while summing\n",
    "df11['Rooms Total']  = df11[['Bsmt Full Bath', 'Bsmt Half Bath', 'Full Bath', 'Half Bath', 'Bedroom AbvGr', 'Kitchen AbvGr' ]].sum(axis = 1)\n",
    "df11.shape"
   ]
  },
  {
   "cell_type": "code",
   "execution_count": 32,
   "metadata": {},
   "outputs": [
    {
     "data": {
      "text/plain": [
       "(2423, 308)"
      ]
     },
     "execution_count": 32,
     "metadata": {},
     "output_type": "execute_result"
    }
   ],
   "source": [
    "# I add polynumial feature to all continuous features (degree = 4)\n",
    "ContinuousFeatures = AreasFeatures.copy()\n",
    "ContinuousFeatures.append('Misc Val')\n",
    "df12 = df11.join(np.square(df11[ContinuousFeatures]).add_suffix('_x2'))\n",
    "df12 = df12.join(np.power(df11[ContinuousFeatures], 3).add_suffix('_x3'))\n",
    "df12 = df12.join(np.power(df11[ContinuousFeatures], 4).add_suffix('_x4'))\n",
    "df12.shape"
   ]
  },
  {
   "cell_type": "markdown",
   "metadata": {},
   "source": []
  }
 ],
 "metadata": {
  "kernelspec": {
   "display_name": "Python 3",
   "language": "python",
   "name": "python3"
  },
  "language_info": {
   "codemirror_mode": {
    "name": "ipython",
    "version": 3
   },
   "file_extension": ".py",
   "mimetype": "text/x-python",
   "name": "python",
   "nbconvert_exporter": "python",
   "pygments_lexer": "ipython3",
   "version": "3.6.2"
  }
 },
 "nbformat": 4,
 "nbformat_minor": 2
}
